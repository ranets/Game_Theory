{
 "cells": [
  {
   "cell_type": "markdown",
   "metadata": {},
   "source": [
    "# Курсовая работа\n",
    "\n",
    "**Выполнил**: Барышников Дмитрий Алексеевич, ПМ-41 (mymailis106@gmail.com)\n",
    "\n",
    "**Преподаватель**: Гурьянов М.А., кафедра ВМ-1"
   ]
  },
  {
   "cell_type": "markdown",
   "metadata": {},
   "source": [
    "### Введение"
   ]
  },
  {
   "cell_type": "markdown",
   "metadata": {},
   "source": [
    "**Теория игр** — это раздел математической экономики, изучающий решение конфликтов между игроками и оптимальность их стратегий. Конфликт может относиться к разным областям человеческого интереса: чаще всего это экономика, социология, политология, реже биология, кибернетика и даже военное дело. Конфликтом является любая ситуация, в которой затронуты интересу двух и более участников, традиционно называемых игроками. Для каждого игрока существует определенный набор стратегий, которые он может применить. Пересекаясь, стратегии нескольких игроков создают определенную ситуацию, в которой каждый игрок получает определенный результат, называемый выигрышем, положительным или отрицательным. При выборе стратегии важно учитывать не только получение максимального профита для себя, но так же возможные шаги противника, и их влияние на ситуацию в целом.\\\n",
    "\n",
    "Основы теории игр зародились еще в 18 веке, с началом эпохи просвящения и развитием экономической теории. Впервые математические аспекты и приложения теории были изложены в классической книге 1944 года Джона фон Неймана и Оскара Моргенштерна «Теория игр и экономическое поведение». Первые концепции теории игр анализировали антагонистические игры, когда есть проигравшие и выигравшие за их счет игроки. Не смотря на то, что теория игр рассматривала экономические модели, вплоть до 50-х годов 20 века она была всего лишь математической теорией. После, в результате резкого скачка экономики США после второй мировой войны, и, как следствие, большего финансирования науки, начинаются попытки практического применения теории игр в экономике, биологии, кибернетике, технике, антропологии. Во время Второй мировой войны и сразу после нее теорией игр серьезно заинтересовались военные, которые увидели в ней мощный аппарат для исследования стратегических решений. В начале 50-х Джон Нэш  разрабатывает методы анализа, в которых все участники или выигрывают, или терпят поражение. Эти ситуации получили названия «равновесие по Нэшу»."
   ]
  },
  {
   "cell_type": "markdown",
   "metadata": {},
   "source": [
    "### Глава 1"
   ]
  },
  {
   "cell_type": "markdown",
   "metadata": {},
   "source": [
    "#### 1. Область исследования и перечень игроков"
   ]
  },
  {
   "cell_type": "markdown",
   "metadata": {},
   "source": [
    "Предположим, что фирма $X$ занимается производством сезонных товаров, имеющих спрос в течение $n (n ≥ 2)$ единиц времени. Она имеет возможность поставить товар на рынок в один из моментов времени $i = 1, 2,..., n$. Фирмы $A, B, C$ производят товар, совпадающий по характеристиками в конкретный период времени с товаром фирмы $X$. Они обладают таким же множеством стратегий вывода товара на рынок: товар, производимый фирмами $A, B ,C$ поступает на рынок в один из моментов времени $j = 1, 2,..., n$ . Цель фирм $A, B, C$ — разорение фирмы $X$, захват освободившегося рынка сбыта продукции. Ограничим законные средства конкурентной борьбы двух фирм выбором момента поставки товара на рынок (понижение цены не предусмотрено). Очевидно, что с целью разорения фирмы $X$ фирмам $A, B, C$ следует минимизировать доход конкурента. \n",
    "\n",
    "\n",
    "Допустим, что чем дольше товар находится в производственном процессе, и, следовательно, позже поступает к потребителю, тем выше его качество (использование новых технологий, более современное оборудование, иные технические условия производства — больший срок «выдержки» и др.). Считаем, что при наличии товара по одной и той же цене, реализуется только товар более высокого качества (позже поставленный на рынок).\n",
    "\n"
   ]
  },
  {
   "cell_type": "markdown",
   "metadata": {},
   "source": [
    "#### 2. Список допустимых стратегий для каждого из игроков:"
   ]
  },
  {
   "cell_type": "markdown",
   "metadata": {},
   "source": [
    "Представим, что некотрые группы бабушек(любительниц вязания) решили выйти из подполья и официально завили о саздании производственных предприятий:\n",
    "\n",
    "Фирма $X$:\n",
    "* В период с декабря по февраль торгует варежками;\n",
    "* В период с марта по апрель торгует шарфами;\n",
    "* В период с июня по сентябрь торгует различными вязаными аксессуарами(чехлы на шею для телефонов, подшлемники и т.п.);\n",
    "\n",
    "Фирма $A$:\n",
    "* В период с декабря по февраль торгует варежками;\n",
    "\n",
    "Фирма $B$:\n",
    "* В период с марта по май торгует велосипедами;\n",
    "\n",
    "Фирма $C$:\n",
    "* В период с июня по август торгует различными вязаными аксессуарами(чехлы на шею для телефонов, подшлемники и т.п.);"
   ]
  },
  {
   "cell_type": "markdown",
   "metadata": {},
   "source": [
    "#### 3. Определить тип и значения функции стоимости игры, изобразить три платежные матрицы игры:"
   ]
  },
  {
   "cell_type": "markdown",
   "metadata": {},
   "source": [
    "Пусть $x$ у. е. — доход фирмы $X$ от продажи товара в единицу времени (за каждый период со спросом на товар).\n",
    "\n",
    "___ \n",
    "\n",
    "Для примера возьмем игру **$XA$**.\n",
    "___\n",
    "\n",
    "В данном случаи конкурируют две фирмы $X$ и $A$, которые продают варежки, то есть период продажи длится $i = 1, 2, 3$.\n",
    "\n",
    "В  текущей экнономической модели может возникнуть **$III$** случая.\n",
    "\n",
    "$I$). Рассмотрим случай, когда $i = j$ , т. е. случай одновременной поставки товара на рынок сбыта продукции. Если фирмы поставляют товар в момент $i = 1$, то он пользуется спросом все оставшиеся три периода продажи, а доход делится между конкурирующими фирмами пополам, так как имеет место реализация товара одинакового качества. Если фирмы поставляют товар одинакового качества в момент $i = 2$ , то он пользуется спросом оставшиеся два периода продажи. В этом случае доходы фирм $X$ и $A$ совпадают и составляют x . Проводя дальнейший анализ, получаем диагональные элементы платежной матрицы (матрицы\n",
    "игры) — $1,5x, x, 0.5x$.\n",
    "\n",
    "$II$). Принципиально иную ситуацию можно наблюдать, если фирма $X$ поставит товар на рынок раньше, чем это сделает конкурирующая фирма $A$. Например, фирма $X$ выбирает поставку товара в момент времени $i =1$, а фирма $A$ в момент времени $j = 2$ . В этом случае товар, произведенный первой фирмой продержится на рынке только первый период, так как со второго периода в наличии товар более высокого качества, произведённый фирмы $A$. Доход фирмы $X$ будет равен $x$ у.е. Если фирма $A$ не будет спешить с моментов поставки товара на рынок, а выберет стратегию повышения качества товара, то выигрыши фирмы $X$ будут равны $2x, 3x$ у. е.\n",
    "\n",
    "$III$)Рассмотрим третий случай. Его сущность заключается в том, что фирма $X$ не стремится как можно быстрее поставить товар на рынок, а выбирает своеобразную выжидательную стратегию, акцентируя внимание на повышение качества товара. Например, фирма $X$ выбирает поставку товара в момент времени $i = 2$ , а фирма $A$ в момент времени $j = 1$. В этом случае товар второй фирмы продержится на рынке только один период, до выхода на рынок товара фирмы — конкурента. Товар фирмы $X$ будет пользоваться спросом оставшиеся трое периодов продаж, т. е. её суммарный доход составит $3x$ . И так далее.\n",
    "\n",
    "\n",
    "Наконец выпишем платежную матрицу игры для игроков $X$ и $A$:\n",
    "\n",
    "\n",
    "$$\n",
    "X_{A} = \n",
    "\\left(\n",
    "\\begin{matrix}\n",
    "1.5x & x & 2x \\\\\n",
    "2x & x & x \\\\\n",
    "x & x & 0.5x \\\\\n",
    "\\end{matrix}\n",
    "\\right)\n",
    "$$\n",
    "\n",
    "Пусть варежки за один месяц приносят прибыль, равную $x = 60000$ рублей, тогда\n",
    "\n",
    "$$\n",
    "X_{A} = \n",
    "\\left(\n",
    "\\begin{matrix}\n",
    "90000 & 60000 & 120000\\\\\n",
    "120000 & 60000 & 60000\\\\\n",
    "60000 & 60000 & 30000\\\\\n",
    "\\end{matrix}\n",
    "\\right)\n",
    "$$\n",
    "\n",
    "Аналогичным образом поступает с игроками $B$ и $C$\n",
    "\n",
    "___ \n",
    "\n",
    "Игра **$XB$**.\n",
    "___\n",
    "\n",
    "\n",
    "$$\n",
    "X_{B} = \n",
    "\\left(\n",
    "\\begin{matrix}\n",
    "x & x & 2x\\\\\n",
    "x & 0.5x & x\\\\\n",
    "\\end{matrix}\n",
    "\\right)\n",
    "$$\n",
    "\n",
    "Пусть шарфы за один месяц приносят прибыль, равную $x = 30000$ рублей, тогда\n",
    "\n",
    "$$\n",
    "X_{B} = \n",
    "\\left(\n",
    "\\begin{matrix}\n",
    "30000 & 30000 & 60000\\\\\n",
    "30000 & 15000 & 30000\\\\\n",
    "\\end{matrix}\n",
    "\\right)\n",
    "$$\n",
    "\n",
    "\n",
    "___ \n",
    "\n",
    "Игра **$XC$**.\n",
    "___\n",
    "\n",
    "\n",
    "$$\n",
    "X_{C} = \n",
    "\\left(\n",
    "\\begin{matrix}\n",
    "2.5x & x & 2x\\\\\n",
    "3x & 2x & x\\\\\n",
    "2x & 2x & 1.5x\\\\\n",
    "x & x & x\\\\\n",
    "\\end{matrix}\n",
    "\\right)\n",
    "$$\n",
    "\n",
    "Пусть аксессуары за один месяц приносят прибыль, равную $x = 15000$ рублей, тогда\n",
    "\n",
    "$$\n",
    "X_{C} = \n",
    "\\left(\n",
    "\\begin{matrix}\n",
    "37500 & 15000 & 30000\\\\\n",
    "45000 & 30000 & 15000\\\\\n",
    "30000 & 30000 & 22500\\\\\n",
    "15000 & 15000 & 15000\\\\\n",
    "\\end{matrix}\n",
    "\\right)\n",
    "$$\n"
   ]
  },
  {
   "cell_type": "markdown",
   "metadata": {},
   "source": [
    "По сути данную модель можно рассматривать, как **антагонистическую** игру: в платежной матрице представлены выигрыши игрока $X$. В свою очередь игроки $A$, $B$ и $C$ стремятся сделать так, чтобы игрок $X$ получил как можно меньше прибыли, то есть, чем меньше игрок $X$ выиграет, тем лучше будет для них."
   ]
  },
  {
   "cell_type": "markdown",
   "metadata": {},
   "source": [
    "#### 4. Изучить каждую платежную матрицу с точки зрения СДС, linprog, графического решения"
   ]
  },
  {
   "cell_type": "markdown",
   "metadata": {},
   "source": [
    "Стратегия B называется **строго доминирующей**, если она строго доминирует любую другую допустимую стратегию игрока.\n",
    "\n",
    "Стратегия B называется **слабо доминирующей**, если она доминирует любую другую допустимую стратегию игрока, при этом некоторые из них доминируются слабо.\n",
    "\n",
    "Стратегия B называется **строго доминируемой**, если существует другая стратегия, которая строго её доминирует.\n",
    "\n",
    "Стратегия B называется **слабо доминируемой**, если существует другая стратегия, которая слабо её доминирует.\n",
    "\n",
    "Последовательное исключение доминируемых стратегий — часто используемая технология решения или упрощения некооперативных игр. Она основана на предположении о том, что в процессе игры стороны не будут использовать доминируемые стратегии, в связи с чем их можно не рассматривать при дальнейшем решении. Однако, исключение этих стратегий из рассмотрения приводит к сужению множества возможных ситуаций, в результате чего могут возникнуть новые доминируемые стратегии, которые в исходной игре не доминировались.\n",
    "\n",
    "Общее правило равновесного поиска седловой точки или предсказания поведения игроков \n",
    "\n",
    "* Игрок всегда выберет Строго доминирующую стратегию (если она есть). \n",
    "* Игрок никогда не выберет доминируемую стратегию\n",
    "\n",
    "**Процесс итеративного удаления Строго Доминируемых стратегий из платежной матрицы называется методом СДС**"
   ]
  },
  {
   "cell_type": "markdown",
   "metadata": {},
   "source": [
    "##### СДС"
   ]
  },
  {
   "cell_type": "code",
   "execution_count": 1,
   "metadata": {},
   "outputs": [],
   "source": [
    "import numpy as np\n",
    "import collections\n",
    "\n",
    "def ExceptionStrategyRow(G):\n",
    "  G = np.array(G)\n",
    "  cols = len(G[0,:]) #Счетчик столбцов матрицы\n",
    "  rows = len(G[:,0])\n",
    "  arr = []\n",
    "  index = []\n",
    "  count_less = 0\n",
    "  count_more = 0\n",
    "      \n",
    "\n",
    "  ii = 1\n",
    "  i = 0\n",
    " \n",
    "  while(ii < len(G[:,0])):\n",
    "      count_less = 0\n",
    "      count_more = 0\n",
    "      for j in range(cols):\n",
    "        if(G[i,j] >= G[ii,j]):\n",
    "          count_less = count_less + 1\n",
    "        if(G[i,j] <= G[ii,j]):\n",
    "          count_more = count_more + 1\n",
    "      if(count_less == cols):\n",
    "        flag_l = 1\n",
    "        flag_m = 0\n",
    "      elif(count_more == cols):\n",
    "        flag_m = 1\n",
    "        flag_l = 0\n",
    "      else:\n",
    "        flag_m = 0\n",
    "        flag_l = 0\n",
    "      if(flag_l):\n",
    "        count_less = 0\n",
    "        print(\"-----------------------------------\")\n",
    "        print(G)\n",
    "        G = np.delete(G,ii,0)        \n",
    "        print(str(ii) + \"-ая строка доминируется \" + str(i) + \"-ой строкой\")\n",
    "        print(\"-----------------------------------\")\n",
    "        ii = i\n",
    "      elif(flag_m):\n",
    "        count_more = 0\n",
    "        print(\"-----------------------------------\")\n",
    "        print(G)\n",
    "        G = np.delete(G,i,0)\n",
    "        print(str(i) + \"-ая строка доминируется  \" + str(ii) + \"-ой строкой\")\n",
    "        print(\"-----------------------------------\")\n",
    "        i = 0 \n",
    "      elif(ii == len(G[:,0]) - 1 ):\n",
    "        i = i + 1\n",
    "        ii = i\n",
    "         \n",
    "      if((len(G[:,0]) > 2) or (ii == i)):   \n",
    "        ii = ii + 1         \n",
    "  print(G)\n",
    "  return G"
   ]
  },
  {
   "cell_type": "code",
   "execution_count": 2,
   "metadata": {},
   "outputs": [],
   "source": [
    "def ExceptionStrategyCol(G):\n",
    "  G = np.array(G)\n",
    "  cols = len(G[0,:]) #Счетчик столбцов матрицы\n",
    "  rows = len(G[:,0])\n",
    "  arr = []\n",
    "  index = []\n",
    "  count_less = 0\n",
    "  count_more = 0\n",
    "      \n",
    "\n",
    "  ii = 1\n",
    "  i = 0\n",
    " \n",
    "  while(ii < len(G[0,:])):\n",
    "      count_less = 0\n",
    "      count_more = 0\n",
    "      for j in range(rows):\n",
    "        if(G[j,i] <= G[j,ii]):\n",
    "          count_less = count_less + 1\n",
    "        if(G[j,i] >= G[j,ii]):\n",
    "          count_more = count_more + 1\n",
    "      if(count_less == rows):\n",
    "        flag_l = 1\n",
    "        flag_m = 0\n",
    "      elif(count_more == rows):\n",
    "        flag_m = 1\n",
    "        flag_l = 0\n",
    "      else:\n",
    "        flag_m = 0\n",
    "        flag_l = 0\n",
    "      if(flag_l):\n",
    "        print(\"-----------------------------------\")\n",
    "        print(G)\n",
    "        G = np.delete(G,ii,1)        \n",
    "        print(str(ii) + \"-ый столбец доминируется \" + str(i) + \"-ым столбцом\")\n",
    "        print(\"-----------------------------------\")\n",
    "        ii = i\n",
    "      elif(flag_m):\n",
    "        print(\"-----------------------------------\")\n",
    "        print(G)\n",
    "        G = np.delete(G,i,1)\n",
    "        print(str(i) + \"-ый столбец доминируется \" + str(ii) + \"-ым столбцом\")\n",
    "        print(\"-----------------------------------\")\n",
    "        i = 0 \n",
    "      elif(ii == len(G[0,:]) - 1 ):\n",
    "        i = i + 1\n",
    "        ii = i    \n",
    "      if((len(G[0,:]) > 2) or (ii == i)):   \n",
    "        ii = ii + 1         \n",
    "  print(G)\n",
    "  return G"
   ]
  },
  {
   "cell_type": "markdown",
   "metadata": {},
   "source": [
    "##### Графический"
   ]
  },
  {
   "cell_type": "code",
   "execution_count": 12,
   "metadata": {},
   "outputs": [],
   "source": [
    "# Код на Питоне\n",
    "import numpy as np\n",
    "import matplotlib.pyplot as plt\n",
    "import math\n",
    "\n",
    "# Графический метод\n",
    "# Получить точку пересечения по двум стратегиям\n",
    "# G - матрица игры\n",
    "# i, j - индексы столбца, соотвествующие стратегии Игрока 2\n",
    "def get_cross_point(G: np.ndarray, i: int, j: int):\n",
    "    # Если прямые параллельны\n",
    "    if (G[1][i] - G[0][i]) / (G[1][j] - G[0][j]) == 1:\n",
    "        # Если они совпадают, вернем первую точку прямой\n",
    "        if G[0][i] == G[1][i]:\n",
    "            return 0\n",
    "        else:\n",
    "            return None\n",
    "\n",
    "    x = (G[0][j] - G[0][i]) / (G[1][i] - G[0][i] - G[1][j] + G[0][j])\n",
    "    y = (G[1][i] - G[0][i]) * x + G[0][i]\n",
    "    return np.array([x, y])\n",
    "\n",
    "# Получить элементы вида [i, j, [x, y]], где [x, y] - кооридинаты точки пересечения i и j стратегии Игрока 2\n",
    "def get_all_cross_points(G: np.ndarray):\n",
    "    result = []\n",
    "    for i in range(G.shape[1]):\n",
    "        for j in range(G.shape[1]):\n",
    "            if i == j:\n",
    "                continue\n",
    "\n",
    "            # Т.к. пересения i,j то же самое, что пересечение j,i\n",
    "            is_point_already_added = False\n",
    "            for item in result:\n",
    "                if item[0] == j and item[1] == i:\n",
    "                    is_point_already_added = True\n",
    "                    break\n",
    "            if is_point_already_added:\n",
    "                continue\n",
    "\n",
    "            point = get_cross_point(G, i, j)\n",
    "            \n",
    "            if point is None:\n",
    "                continue\n",
    "            \n",
    "            [x, y] = point\n",
    "\n",
    "            # Нам интересны только те точки пересечения, которые находятся на отрезке [0; 1]\n",
    "            if x >= 0 and x <= 1:\n",
    "                result.append([i, j, [x, y]])\n",
    "    # Соритируем точки пересечения по x\n",
    "    return sorted(result, key = lambda item: item[2][0])\n",
    "\n",
    "def get_optimal_first_player_strategy(G):\n",
    "    filtered_points = []\n",
    "    previous_point = 0\n",
    "    \n",
    "    # Для каждого отрезка между двумя точками пересчениями\n",
    "    if len(get_all_cross_points(G)):\n",
    "        print(\"Не найдено точек пересечения\")\n",
    "    for [i, j, [x, y]] in get_all_cross_points(G):\n",
    "        # Выбираем его середину\n",
    "        middle = previous_point + (x - previous_point) / 2\n",
    "        \n",
    "        # Находим прямую, которая находится ниже всех для этого отрезка\n",
    "        min_i = 0\n",
    "        min_value = 2**15\n",
    "        for k in range(G.shape[1]):\n",
    "            current_value = (G[1][k] - G[0][k]) * middle + G[0][k]\n",
    "            if current_value < min_value:\n",
    "                min_i = k\n",
    "                min_value = current_value\n",
    "\n",
    "        # Если точка пересчения принадлежит найденной прямой, запоминаем точку пересечния\n",
    "        if min_i == i or min_i == j:\n",
    "            filtered_points.append([i, j, [x, y]])\n",
    "        previous_point = x\n",
    "        if len(filtered_points) == 0:\n",
    "            print(\"Точки не найдены\")\n",
    "    return sorted(filtered_points, key = lambda item: item[2][1], reverse=True)[0]\n",
    "\n",
    "def draw_game(G):\n",
    "    plt.plot([-0.1, 1.1],[0, 0],'b')\n",
    "    plt.plot([0,0],[0,10],'b')\n",
    "    plt.plot([1,1],[0,10],'b')\n",
    "\n",
    "    for item in get_all_cross_points(G):\n",
    "        plt.plot(item[2][0], item[2][1], 'g*')\n",
    "    \n",
    "    [i, j, [x, y]] = get_optimal_first_player_strategy(G)\n",
    "    plt.plot(x, y, 'r*')\n",
    "\n",
    "    for k in range(len(G[0])):\n",
    "        plt.plot([0],G[0][k],'g*')\n",
    "        plt.plot([1],G[1][k],'g*')\n",
    "        line_color = 'r' if i == k or j == k else 'g'\n",
    "        plt.plot([0,1],[G[0][k],G[1][k]], line_color)\n",
    "\n",
    "    plt.grid(True)\n",
    "    plt.show()\n",
    "    return [i, j, [x, y]]"
   ]
  },
  {
   "cell_type": "markdown",
   "metadata": {},
   "source": [
    "##### linprog"
   ]
  },
  {
   "cell_type": "code",
   "execution_count": 80,
   "metadata": {},
   "outputs": [],
   "source": [
    "from scipy.optimize import linprog\n",
    "import numpy as np\n",
    "\n",
    "def solvelinprog(game: np.ndarray):\n",
    "    f =  np.ones(game.shape[0])\n",
    "    game = (-1) * game.T\n",
    "    b = np.ones(game.shape[0]) * (-1)\n",
    "    res = linprog(f,game,b)\n",
    "    cost = 1/res.fun\n",
    "    strategy = res.x * cost\n",
    "\n",
    "    strategy = np.round(np.array(strategy),1)\n",
    "    print (round(cost))\n",
    "    print (strategy)"
   ]
  },
  {
   "cell_type": "markdown",
   "metadata": {},
   "source": [
    "##### Это не надо"
   ]
  },
  {
   "cell_type": "code",
   "execution_count": 81,
   "metadata": {},
   "outputs": [],
   "source": [
    " ## Код на Питоне\n",
    " # поиск седловой точки\n",
    "def saddle(Game):\n",
    "    import numpy as np\n",
    "    Game = np.array(Game)\n",
    "    rows = np.ndarray(len(Game[:, 0]), np.float32)\n",
    "    cols = np.ndarray(len(Game[0]), np.float32)\n",
    "# максимин\n",
    "    for i in range(len(Game[:, 0])):\n",
    "        rows[i] = min(Game[i])\n",
    "# минимакс\n",
    "    for i in range(len(Game[0])):\n",
    "        cols[i] = max(Game[:, i])\n",
    "    max_index = np.argmax(rows)\n",
    "    min_index = np.argmin(cols)\n",
    "    if max(rows) == min(cols):\n",
    "        print ('G(', max_index + 1, ',', min_index + 1, ') =', Game[max_index][min_index])\n",
    "    else:\n",
    "        print('Седловой точки в платежной матрице нет, надо в смешанных стратегиях')\n",
    "        print ('G(', max_index + 1, ',', min_index + 1, ') =', Game[max_index][min_index])\n",
    "    return"
   ]
  },
  {
   "cell_type": "code",
   "execution_count": 108,
   "metadata": {},
   "outputs": [],
   "source": [
    "# Оптимальные стратегии по критериям\n",
    "def optimalsolve(a):\n",
    "\n",
    "    print(a)\n",
    "    # Лапласа\n",
    "    print(\"Лапласа:\")\n",
    "    rows_sums = np.ndarray(len(a[:, 0]), np.float32)\n",
    "    for i in range(len(a[:, 0])):\n",
    "        sum = 0\n",
    "        for j in range(len(a[0])):\n",
    "            sum = sum + a[i, j]\n",
    "        rows_sums[i] = sum\n",
    "        print(\"Сумма элементов\", i + 1, \"строки = \", rows_sums[i])\n",
    "\n",
    "    max_index = np.argmax(rows_sums)\n",
    "    print(\"Оптимальная стратегия по критерию Лапласа для игрока А - А\" + str(max_index +1))\n",
    "\n",
    "    # Сэвиджа\n",
    "    print(\"\\nСэвиджа:\")\n",
    "    cols = np.ndarray(len(a[0]), np.float32)\n",
    "    for j in range(len(a[0])):\n",
    "        cols[j] = max(a[:, j])\n",
    "    print(\"Макс. элементы в столбцах\\n\", cols)\n",
    "\n",
    "    for i in range(len(a[:, 0])):\n",
    "        for j in range(len(a[0])):\n",
    "            a[i, j] = cols[j] - a[i, j]\n",
    "    print(\"Матрица рисков \\n\", a)\n",
    "\n",
    "    rows = np.ndarray(len(a[:, 0]), np.float32)\n",
    "    for i in range(len(a[:, 0])):\n",
    "        rows[i] = max(a[i])\n",
    "    min_index = np.argmin(rows)\n",
    "    print(\"Оптимальная стратегия по критерию Сэвиджа для игрока А - А\" + str(max_index +1))"
   ]
  },
  {
   "cell_type": "markdown",
   "metadata": {},
   "source": [
    "##### Для игры $XA$:\n",
    "\n",
    "$$\n",
    "X_{A} = \n",
    "\\left(\n",
    "\\begin{matrix}\n",
    "90000 & 60000 & 120000\\\\\n",
    "120000 & 60000 & 60000\\\\\n",
    "60000 & 60000 & 30000\\\\\n",
    "\\end{matrix}\n",
    "\\right)\n",
    "$$"
   ]
  },
  {
   "cell_type": "code",
   "execution_count": 82,
   "metadata": {},
   "outputs": [
    {
     "name": "stdout",
     "output_type": "stream",
     "text": [
      "-----------------------------------\n",
      "[[ 90000  60000 120000]\n",
      " [120000  60000  60000]\n",
      " [ 60000  60000  30000]]\n",
      "2-ая строка доминируется 0-ой строкой\n",
      "-----------------------------------\n",
      "[[ 90000  60000 120000]\n",
      " [120000  60000  60000]]\n",
      "-----------------------------------\n",
      "[[ 90000  60000 120000]\n",
      " [120000  60000  60000]]\n",
      "0-ый столбец доминируется 1-ым столбцом\n",
      "-----------------------------------\n",
      "-----------------------------------\n",
      "[[ 60000 120000]\n",
      " [ 60000  60000]]\n",
      "1-ый столбец доминируется 0-ым столбцом\n",
      "-----------------------------------\n",
      "[[60000]\n",
      " [60000]]\n"
     ]
    }
   ],
   "source": [
    "XA = [[90000,60000,120000],[120000,60000,60000],[60000,60000,30000]]\n",
    "\n",
    "XA = ExceptionStrategyRow(XA)\n",
    "XA = ExceptionStrategyCol(XA)"
   ]
  },
  {
   "cell_type": "code",
   "execution_count": 83,
   "metadata": {},
   "outputs": [
    {
     "name": "stdout",
     "output_type": "stream",
     "text": [
      "G( 1 , 2 ) = 60000\n"
     ]
    }
   ],
   "source": [
    "XA = [[90000,60000,120000],[120000,60000,60000],[60000,60000,30000]]\n",
    "saddle(XA)"
   ]
  },
  {
   "cell_type": "code",
   "execution_count": 99,
   "metadata": {},
   "outputs": [
    {
     "name": "stdout",
     "output_type": "stream",
     "text": [
      "59980\n",
      "[0.4 0.2 0.4]\n"
     ]
    }
   ],
   "source": [
    "XA = np.array([[90000,60000,120000],[120000,60000,60000],[60000,60000,30000]])\n",
    "\n",
    "solvelinprog(XA)"
   ]
  },
  {
   "cell_type": "code",
   "execution_count": 100,
   "metadata": {},
   "outputs": [
    {
     "name": "stdout",
     "output_type": "stream",
     "text": [
      "[[ 90000  60000 120000]\n",
      " [120000  60000  60000]\n",
      " [ 60000  60000  30000]]\n",
      "Лапласа:\n",
      "Сумма элементов 1 строки =  270000.0\n",
      "Сумма элементов 2 строки =  240000.0\n",
      "Сумма элементов 3 строки =  150000.0\n",
      "Оптимальная стратегия по критерию Лапласа для игрока А - А1\n",
      "\n",
      "Сэвиджа:\n",
      "Макс. элементы в столбцах\n",
      " [120000.  60000. 120000.]\n",
      "Матрица рисков \n",
      " [[30000     0     0]\n",
      " [    0     0 60000]\n",
      " [60000     0 90000]]\n",
      "Оптимальная стратегия по критерию Сэвиджа для игрока А - А1\n"
     ]
    }
   ],
   "source": [
    "optimalsolve(XA)"
   ]
  },
  {
   "cell_type": "code",
   "execution_count": 21,
   "metadata": {},
   "outputs": [
    {
     "name": "stdout",
     "output_type": "stream",
     "text": [
      "Не найдено точек пересечения\n"
     ]
    },
    {
     "name": "stderr",
     "output_type": "stream",
     "text": [
      "C:\\Users\\ranets\\AppData\\Local\\Temp\\ipykernel_1732\\184561271.py:12: RuntimeWarning: divide by zero encountered in long_scalars\n",
      "  if (G[1][i] - G[0][i]) / (G[1][j] - G[0][j]) == 1:\n"
     ]
    },
    {
     "data": {
      "image/png": "[encoded data removed]",
      "text/plain": [
       "<Figure size 432x288 with 1 Axes>"
      ]
     },
     "metadata": {
      "needs_background": "light"
     },
     "output_type": "display_data"
    }
   ],
   "source": [
    "[i, j, [x, y]] = draw_game(XA)"
   ]
  },
  {
   "cell_type": "markdown",
   "metadata": {},
   "source": [
    "##### Для игры $XB$:\n",
    "\n",
    "$$\n",
    "X_{B} = \n",
    "\\left(\n",
    "\\begin{matrix}\n",
    "30000 & 30000 & 60000\\\\\n",
    "30000 & 15000 & 30000\\\\\n",
    "\\end{matrix}\n",
    "\\right)\n",
    "$$"
   ]
  },
  {
   "cell_type": "code",
   "execution_count": 85,
   "metadata": {},
   "outputs": [
    {
     "name": "stdout",
     "output_type": "stream",
     "text": [
      "-----------------------------------\n",
      "[[30000 30000 60000]\n",
      " [30000 15000 30000]]\n",
      "1-ая строка доминируется 0-ой строкой\n",
      "-----------------------------------\n",
      "[[30000 30000 60000]]\n",
      "-----------------------------------\n",
      "[[30000 30000 60000]]\n",
      "1-ый столбец доминируется 0-ым столбцом\n",
      "-----------------------------------\n",
      "-----------------------------------\n",
      "[[30000 60000]]\n",
      "1-ый столбец доминируется 0-ым столбцом\n",
      "-----------------------------------\n",
      "[[30000]]\n"
     ]
    }
   ],
   "source": [
    "XB = [[30000,30000,60000],[30000,15000,30000]]\n",
    "XB = ExceptionStrategyRow(XB)\n",
    "XB = ExceptionStrategyCol(XB)"
   ]
  },
  {
   "cell_type": "code",
   "execution_count": 86,
   "metadata": {},
   "outputs": [
    {
     "name": "stdout",
     "output_type": "stream",
     "text": [
      "G( 1 , 1 ) = 30000\n"
     ]
    }
   ],
   "source": [
    "XB = [[30000,30000,60000],[30000,15000,30000]]\n",
    "saddle(XB)"
   ]
  },
  {
   "cell_type": "code",
   "execution_count": 97,
   "metadata": {},
   "outputs": [
    {
     "name": "stdout",
     "output_type": "stream",
     "text": [
      "30000\n",
      "[1. 0.]\n"
     ]
    }
   ],
   "source": [
    "XB = np.array([[30000,30000,60000],[30000,15000,30000]])\n",
    "\n",
    "solvelinprog(XB)"
   ]
  },
  {
   "cell_type": "code",
   "execution_count": 98,
   "metadata": {},
   "outputs": [
    {
     "name": "stdout",
     "output_type": "stream",
     "text": [
      "[[30000 30000 60000]\n",
      " [30000 15000 30000]]\n",
      "Лапласа:\n",
      "Сумма элементов 1 строки =  120000.0\n",
      "Сумма элементов 2 строки =  75000.0\n",
      "Оптимальная стратегия по критерию Лапласа для игрока А - А1\n",
      "\n",
      "Сэвиджа:\n",
      "Макс. элементы в столбцах\n",
      " [30000. 30000. 60000.]\n",
      "Матрица рисков \n",
      " [[    0     0     0]\n",
      " [    0 15000 30000]]\n",
      "Оптимальная стратегия по критерию Сэвиджа для игрока А - А1\n"
     ]
    }
   ],
   "source": [
    "optimalsolve(XB)"
   ]
  },
  {
   "cell_type": "code",
   "execution_count": 24,
   "metadata": {},
   "outputs": [
    {
     "name": "stdout",
     "output_type": "stream",
     "text": [
      "Не найдено точек пересечения\n"
     ]
    },
    {
     "data": {
      "image/png": "[encoded data removed]",
      "text/plain": [
       "<Figure size 432x288 with 1 Axes>"
      ]
     },
     "metadata": {
      "needs_background": "light"
     },
     "output_type": "display_data"
    }
   ],
   "source": [
    "[i, j, [x, y]] = draw_game(XB)"
   ]
  },
  {
   "cell_type": "markdown",
   "metadata": {},
   "source": [
    "##### Для игры $XC$:\n",
    "\n",
    "$$\n",
    "X_{C} = \n",
    "\\left(\n",
    "\\begin{matrix}\n",
    "37500 & 15000 & 30000\\\\\n",
    "45000 & 30000 & 15000\\\\\n",
    "30000 & 30000 & 22500\\\\\n",
    "15000 & 15000 & 15000\\\\\n",
    "\\end{matrix}\n",
    "\\right)\n",
    "$$"
   ]
  },
  {
   "cell_type": "code",
   "execution_count": 48,
   "metadata": {},
   "outputs": [
    {
     "name": "stdout",
     "output_type": "stream",
     "text": [
      "-----------------------------------\n",
      "[[37500 15000 30000]\n",
      " [45000 30000 15000]\n",
      " [30000 30000 22500]\n",
      " [15000 15000 15000]]\n",
      "0-ый столбец доминируется 1-ым столбцом\n",
      "-----------------------------------\n",
      "[[15000 30000]\n",
      " [30000 15000]\n",
      " [30000 22500]\n",
      " [15000 15000]]\n",
      "-----------------------------------\n",
      "[[15000 30000]\n",
      " [30000 15000]\n",
      " [30000 22500]\n",
      " [15000 15000]]\n",
      "3-ая строка доминируется 0-ой строкой\n",
      "-----------------------------------\n",
      "-----------------------------------\n",
      "[[15000 30000]\n",
      " [30000 15000]\n",
      " [30000 22500]]\n",
      "1-ая строка доминируется  2-ой строкой\n",
      "-----------------------------------\n",
      "[[15000 30000]\n",
      " [30000 22500]]\n"
     ]
    }
   ],
   "source": [
    "XC = [[37500,15000,30000],[45000,30000,15000],[30000,30000,22500], [15000,15000,15000]]\n",
    "XC = ExceptionStrategyCol(XC)\n",
    "XC = ExceptionStrategyRow(XC)"
   ]
  },
  {
   "cell_type": "code",
   "execution_count": 104,
   "metadata": {},
   "outputs": [
    {
     "name": "stdout",
     "output_type": "stream",
     "text": [
      "Седловой точки в платежной матрице нет, надо в смешанных стратегиях\n",
      "G( 3 , 2 ) = 30000\n"
     ]
    }
   ],
   "source": [
    "XC = [[37500,15000,30000],[45000,30000,15000],[30000,30000,22500], [15000,15000,15000]]\n",
    "saddle(XC)"
   ]
  },
  {
   "cell_type": "code",
   "execution_count": 106,
   "metadata": {},
   "outputs": [
    {
     "name": "stdout",
     "output_type": "stream",
     "text": [
      "24998\n",
      "[0.3 0.  0.7 0. ]\n"
     ]
    }
   ],
   "source": [
    "XC = np.array([[37500,15000,30000],[45000,30000,15000],[30000,30000,22500], [15000,15000,15000]])\n",
    "\n",
    "solvelinprog(XC)"
   ]
  },
  {
   "cell_type": "code",
   "execution_count": 107,
   "metadata": {},
   "outputs": [
    {
     "name": "stdout",
     "output_type": "stream",
     "text": [
      "[[37500 15000 30000]\n",
      " [45000 30000 15000]\n",
      " [30000 30000 22500]\n",
      " [15000 15000 15000]]\n",
      "Лапласа:\n",
      "Сумма элементов 1 строки =  82500.0\n",
      "Сумма элементов 2 строки =  90000.0\n",
      "Сумма элементов 3 строки =  82500.0\n",
      "Сумма элементов 4 строки =  45000.0\n",
      "Оптимальная стратегия по критерию Лапласа для игрока А - А2\n",
      "\n",
      "Сэвиджа:\n",
      "Макс. элементы в столбцах\n",
      " [45000. 30000. 30000.]\n",
      "Матрица рисков \n",
      " [[ 7500 15000     0]\n",
      " [    0     0 15000]\n",
      " [15000     0  7500]\n",
      " [30000 15000 15000]]\n",
      "Оптимальная стратегия по критерию Сэвиджа для игрока А - А2\n"
     ]
    }
   ],
   "source": [
    "optimalsolve(XC)"
   ]
  },
  {
   "cell_type": "code",
   "execution_count": 36,
   "metadata": {},
   "outputs": [
    {
     "name": "stdout",
     "output_type": "stream",
     "text": [
      "Не найдено точек пересечения\n"
     ]
    },
    {
     "data": {
      "image/png": "[encoded data removed]",
      "text/plain": [
       "<Figure size 432x288 with 1 Axes>"
      ]
     },
     "metadata": {
      "needs_background": "light"
     },
     "output_type": "display_data"
    }
   ],
   "source": [
    "[i, j, [x, y]] = draw_game(XC)"
   ]
  },
  {
   "cell_type": "markdown",
   "metadata": {},
   "source": [
    "#### 5. Заключение"
   ]
  },
  {
   "cell_type": "markdown",
   "metadata": {},
   "source": [
    "Мы смоделировали упрощенню экономическую ситуацию. Тем не менее никаких протеворечий и каллизий не наблюдалось. Модель построена вполне себе адекватно и логично.\n",
    "\n",
    "Графический метод у меня не обнаружил точек пересечений, поэтому буду опираться на linprog.\n",
    "\n",
    "Например, для игр $XA$ и $XС$ у нас получилось найти решение только с помощью смешанных стратегий, с помощью метода СДС наша матрица упростилась, но этого недостаточно, чтобы делать выводы о решении. То есть для игр $XA$ и $XС$ не существует седловой точки в чистых стратегиях.\n",
    "\n",
    "С игрой $XB$ всё понятно, в данной игре есть седловая точка.\n",
    "\n",
    "Оптимальное решение для игрока $X$ в игре $XA$ является стратегия 1, то есть когда игрок $X$  начнет продавать товар с самого начала именно тогда он сможет сохранить большую часть прибыли.\n",
    "\n",
    "В игре $XB$ все однозначно, у нас есть седловая точка, то есть игроку $X$ необходимо придерживаться первой стратегии.\n",
    "\n",
    "Стратегия 3 является оптимальной в игре $XC$"
   ]
  },
  {
   "cell_type": "markdown",
   "metadata": {},
   "source": [
    "### Глава 2. Многошаговые и динамические игры"
   ]
  },
  {
   "cell_type": "markdown",
   "metadata": {},
   "source": [
    "Принятие решений может происходить в условиях определенности (все данные известны точно), условиях неопределенности (точных данных нет), условиях риска (данные в форме вероятностных распределений). Для третьего варианта решение основывается на вероятности появления каждого из альтернативных вариантов развития событий.\n",
    "\n",
    "Метод построения дерева решений используют, когда нужно принять решение в условиях неопределенности, когда каждое решение зависит от исхода предыдущего или исходов испытаний, или некоторых заданных условий, появляющихся с оппределенной вероятностью.\n",
    "\n",
    "Дерево решений позволяет визуально и аналитически оценить результаты выбора различных решений и используется в области статистики и анализа данных для прогнозных моделей.\n",
    "\n",
    "Подробнее о структуре. Дерево решений состоит из веток с атрибутами (от них зависит результат – целевая функция) и листьев со значениями целевой функции (решающие вершины - результат выбора определенного значения атрибута), а также узлов – случайных вершин, в которых определены возможные варианты развития событий с определенного момента. «Растет» дерево до тех пор, пока альтернативные варианты не начнут вести к аналогичным или закономерно повторяющимся вариантам.\n",
    "\n",
    "* Граф игры не обязательно симметричный. Например в шахматах какие-то ветви быстро приводят к завершению игры, а какие-то нет.\n",
    "* Также нет ограничения по количеству игроков и очередности хода \n",
    "\n",
    "Последовательность ходов (т.е. путь от вершины к точке конца партии) называтеся **Партия**\n",
    "\n",
    "Или на примере антагонистической симметричной игры (все партии состоят из одинакового количества ходов и игра является игрой с нулевой суммой)\n",
    "\n",
    "Так формируется **Динамическая игра** - Игра, в которой игроки делают выбор последовательно, причем знают \"ходы\" друг друга и используют эту информацию для принятия решения о своём следующем ходе.\n",
    "\n",
    "Примером динамической игры в классическом понимании являются шахматы, например.\n",
    "\n",
    "По осведомлённости игроков:\n",
    "\n",
    "* Полная информация -  Знают текущее состояние, все возможные ходы (знают текущую платежную матрицу)\n",
    "* Совершенная информация - Знают текущее состояние, все возможные ходы и предысторию игры (т.е. знают и текущую платежную матрицу и все какие могли бы получиться в ходе шагов)\n",
    "* Неполная информация - Не уверены какая платежная матрица сейчас играется (либо не знают точно что получится в результате того или иного хода либо не знают, какие вообще есть ходы)\n",
    "\n"
   ]
  },
  {
   "cell_type": "markdown",
   "metadata": {},
   "source": [
    "##### Задание 1. Придумать и реализовать класс - структуру данных, описывающую игру в виде графа."
   ]
  },
  {
   "cell_type": "code",
   "execution_count": 109,
   "metadata": {},
   "outputs": [],
   "source": [
    "class TreeNode:\n",
    "    end_level = 0\n",
    "\n",
    "    def __init__(self, data=None, name=None):\n",
    "        self.data = data\n",
    "        self.name = name\n",
    "        self.children = []\n",
    "        self.parent = None\n",
    "\n",
    "    def get_level(self):\n",
    "        level = 0\n",
    "        p = self.parent\n",
    "        while p:\n",
    "            level += 1\n",
    "            p = p.parent\n",
    "\n",
    "        return level\n",
    "\n",
    "    def print_tree(self):\n",
    "        spaces = ' ' * self.get_level() * 3\n",
    "        prefix = spaces + \"|__\" if self.parent else \"\"\n",
    "        print(prefix + self.name + \"(\" + str(self.data) + \")\")\n",
    "        if self.children:\n",
    "            for child in self.children:\n",
    "                child.print_tree()\n",
    "\n",
    "    def add_child(self, child):\n",
    "        child.parent = self\n",
    "        self.children.append(child)\n",
    "\n",
    "    def level_induction(self):\n",
    "        if self.children:\n",
    "            if TreeNode.end_level == 1:\n",
    "                max_min_data = []\n",
    "                for dat in self.children:\n",
    "                    max_min_data.append(dat.data)\n",
    "                if self.name == \"X\":\n",
    "                    self.data = max(max_min_data) + self.data\n",
    "                else:\n",
    "                    self.data = min(max_min_data) + self.data\n",
    "                self.children = []\n",
    "            for child in self.children:\n",
    "                if len(child.children[0].children) == 0:\n",
    "                    if child.name != \"X\":\n",
    "                        min_data = []\n",
    "                        for dat in child.children:\n",
    "                            min_data.append(dat.data)\n",
    "                        child.data = min(min_data) + child.data\n",
    "                        child.children = []\n",
    "                    else:\n",
    "                        max_data = []\n",
    "                        for dat in child.children:\n",
    "                            max_data.append(dat.data)\n",
    "                        child.data = max(max_data) + child.data\n",
    "                        child.children = []\n",
    "                else:\n",
    "                    child.level_induction()\n",
    "                    continue\n",
    "\n",
    "    def fun_end_level(self):\n",
    "        if len(self.children) != 0:\n",
    "            TreeNode.end_level += 1\n",
    "            self.children[0].fun_end_level()\n",
    "\n",
    "    def get_end_level(self):\n",
    "        TreeNode.end_level = 0\n",
    "        self.fun_end_level()\n",
    "        return self.end_level\n",
    "\n",
    "    def reverse_induction(self):\n",
    "        current_level = self.get_end_level()\n",
    "        print(\"--------------\")\n",
    "        if current_level != 0:\n",
    "            self.level_induction()\n",
    "            TreeNode.end_level -= 1\n",
    "            self.print_tree()\n",
    "            self.reverse_induction()\n",
    "        return self.data"
   ]
  },
  {
   "cell_type": "markdown",
   "metadata": {},
   "source": [
    "##### Задание 2. Составить функцию, которая принимает на вход экземпляр класса древовидной игры и решает ее. Выводит решение графически. (детерминированное моделирование)"
   ]
  },
  {
   "cell_type": "markdown",
   "metadata": {},
   "source": [
    "##### Дерево для игры $XB$ (Просто так визуально проще):\n",
    "\n",
    "$$\n",
    "X_{B} = \n",
    "\\left(\n",
    "\\begin{matrix}\n",
    "30000 & 30000 & 60000\\\\\n",
    "30000 & 15000 & 30000\\\\\n",
    "\\end{matrix}\n",
    "\\right)\n",
    "$$"
   ]
  },
  {
   "cell_type": "code",
   "execution_count": 110,
   "metadata": {},
   "outputs": [
    {
     "name": "stdout",
     "output_type": "stream",
     "text": [
      "B(0)\n",
      "   |__X(0)\n",
      "      |__out(30000)\n",
      "      |__out(30000)\n",
      "   |__X(0)\n",
      "      |__out(30000)\n",
      "      |__out(15000)\n",
      "   |__X(0)\n",
      "      |__out(60000)\n",
      "      |__out(30000)\n",
      "--------------\n",
      "B(0)\n",
      "   |__X(30000)\n",
      "   |__X(30000)\n",
      "   |__X(60000)\n",
      "--------------\n",
      "B(30000)\n",
      "--------------\n",
      "optimized = 30000\n"
     ]
    }
   ],
   "source": [
    "root = TreeNode(0, \"B\")\n",
    "# -----------------------------------\n",
    "A_1 = TreeNode(0, \"X\")\n",
    "X_1_1_1 = TreeNode(30000, \"out\")\n",
    "A_1.add_child(X_1_1_1)\n",
    "\n",
    "X_1_1_2 = (TreeNode(30000, \"out\"))\n",
    "A_1.add_child(X_1_1_2)\n",
    "\n",
    "# -------------------------------------------\n",
    "\n",
    "\n",
    "# ----------------------------------------------\n",
    "A_2 = TreeNode(0, \"X\")\n",
    "\n",
    "X_1_2_1 = TreeNode(30000, \"out\")\n",
    "A_2.add_child(X_1_2_1)\n",
    "\n",
    "X_1_2_2 = TreeNode(15000, \"out\")\n",
    "A_2.add_child(X_1_2_2)\n",
    "\n",
    "# ----------------------------\n",
    "\n",
    "\n",
    "# ----------------------------\n",
    "A_3 = TreeNode(0, \"X\")\n",
    "\n",
    "X_1_3_1 = TreeNode(60000, \"out\")\n",
    "A_3.add_child(X_1_3_1)\n",
    "\n",
    "X_1_3_2 = TreeNode(30000, \"out\")\n",
    "A_3.add_child(X_1_3_2)\n",
    "\n",
    "# ---------------------------------------------\n",
    "\n",
    "root.add_child(A_1)\n",
    "root.add_child(A_2)\n",
    "root.add_child(A_3)\n",
    "\n",
    "\n",
    "root.print_tree()\n",
    "print(\"optimized = \" + str(root.reverse_induction()))"
   ]
  },
  {
   "cell_type": "markdown",
   "metadata": {},
   "source": [
    "Решение найдено верно (из соображений, приведённых в первой главе)"
   ]
  },
  {
   "cell_type": "markdown",
   "metadata": {},
   "source": [
    "##### Задание 3. Соединить все 3 игры из лабораторной 1 в дерево (очередность ходов А-Х-B-Х-C-X). Найти решение при помощи функции из задания 2."
   ]
  },
  {
   "cell_type": "markdown",
   "metadata": {},
   "source": [
    "Уменьшим общее кол-во стратегий для того, чтобы было нагляднее\n",
    "\n",
    "Игра $XA$ примет вид:\n",
    "\n",
    "$$\n",
    "X_{A} = \n",
    "\\left(\n",
    "\\begin{matrix}\n",
    "30000 & 60000 \\\\\n",
    "\\end{matrix}\n",
    "\\right)\n",
    "$$ \n",
    "игрок $X$ торгует 1 месяц, а игрок $A$ два месяца.\n",
    "\n",
    "Игра $XB$ примет вид:\n",
    "\n",
    "$$\n",
    "X_{B} = \n",
    "\\left(\n",
    "\\begin{matrix}\n",
    "30000 & 30000\\\\\n",
    "30000 & 30000\\\\\n",
    "\\end{matrix}\n",
    "\\right)\n",
    "$$\n",
    "игрок $X$ и игрок $B$ торгуют 2 месяца.\n",
    "\n",
    "Игра  $XC$ примет вид:\n",
    "$$\n",
    "X_{C} = \n",
    "\\left(\n",
    "\\begin{matrix}\n",
    "22500 \\\\\n",
    "15000 \\\\\n",
    "\\end{matrix}\n",
    "\\right)\n",
    "$$\n",
    "\n",
    "Игрок $X$ торгует 2 месяца, а игрок $С$ один месяц."
   ]
  },
  {
   "cell_type": "markdown",
   "metadata": {},
   "source": [
    "Получается вот так\n",
    "\n",
    "![alt](https://drive.google.com/file/d/1KMLdzFfAuo97vheICvtMBBRRj1rgtSIM/view?usp=sharing)"
   ]
  },
  {
   "cell_type": "markdown",
   "metadata": {},
   "source": [
    "Или по ссылке [https://miro.com/app/board/uXjVO5sSPy4=/?share_link_id=926532799479]"
   ]
  },
  {
   "cell_type": "code",
   "execution_count": 111,
   "metadata": {},
   "outputs": [
    {
     "name": "stdout",
     "output_type": "stream",
     "text": [
      "A(0)\n",
      "   |__X(0)\n",
      "      |__B(0)\n",
      "         |__X(0)\n",
      "            |__C(0)\n",
      "               |__X(0)\n",
      "                  |__out(82500)\n",
      "                  |__out(75000)\n",
      "            |__C(0)\n",
      "               |__X(0)\n",
      "                  |__out(82500)\n",
      "                  |__out(75000)\n",
      "         |__X(0)\n",
      "            |__C(0)\n",
      "               |__X(0)\n",
      "                  |__out(82500)\n",
      "                  |__out(75000)\n",
      "            |__C(0)\n",
      "               |__X(0)\n",
      "                  |__out(82500)\n",
      "                  |__out(75000)\n",
      "   |__X(0)\n",
      "      |__B(0)\n",
      "         |__X(0)\n",
      "            |__C(0)\n",
      "               |__X(0)\n",
      "                  |__out(112500)\n",
      "                  |__out(105000)\n",
      "            |__C(0)\n",
      "               |__X(0)\n",
      "                  |__out(112500)\n",
      "                  |__out(105000)\n",
      "         |__X(0)\n",
      "            |__C(0)\n",
      "               |__X(0)\n",
      "                  |__out(112500)\n",
      "                  |__out(105000)\n",
      "            |__C(0)\n",
      "               |__X(0)\n",
      "                  |__out(112500)\n",
      "                  |__out(105000)\n",
      "--------------\n",
      "A(0)\n",
      "   |__X(0)\n",
      "      |__B(0)\n",
      "         |__X(0)\n",
      "            |__C(0)\n",
      "               |__X(82500)\n",
      "            |__C(0)\n",
      "               |__X(82500)\n",
      "         |__X(0)\n",
      "            |__C(0)\n",
      "               |__X(82500)\n",
      "            |__C(0)\n",
      "               |__X(82500)\n",
      "   |__X(0)\n",
      "      |__B(0)\n",
      "         |__X(0)\n",
      "            |__C(0)\n",
      "               |__X(112500)\n",
      "            |__C(0)\n",
      "               |__X(112500)\n",
      "         |__X(0)\n",
      "            |__C(0)\n",
      "               |__X(112500)\n",
      "            |__C(0)\n",
      "               |__X(112500)\n",
      "--------------\n",
      "A(0)\n",
      "   |__X(0)\n",
      "      |__B(0)\n",
      "         |__X(0)\n",
      "            |__C(82500)\n",
      "            |__C(82500)\n",
      "         |__X(0)\n",
      "            |__C(82500)\n",
      "            |__C(82500)\n",
      "   |__X(0)\n",
      "      |__B(0)\n",
      "         |__X(0)\n",
      "            |__C(112500)\n",
      "            |__C(112500)\n",
      "         |__X(0)\n",
      "            |__C(112500)\n",
      "            |__C(112500)\n",
      "--------------\n",
      "A(0)\n",
      "   |__X(0)\n",
      "      |__B(0)\n",
      "         |__X(82500)\n",
      "         |__X(82500)\n",
      "   |__X(0)\n",
      "      |__B(0)\n",
      "         |__X(112500)\n",
      "         |__X(112500)\n",
      "--------------\n",
      "A(0)\n",
      "   |__X(0)\n",
      "      |__B(82500)\n",
      "   |__X(0)\n",
      "      |__B(112500)\n",
      "--------------\n",
      "A(0)\n",
      "   |__X(82500)\n",
      "   |__X(112500)\n",
      "--------------\n",
      "A(82500)\n",
      "--------------\n"
     ]
    }
   ],
   "source": [
    "root = TreeNode(0, \"A\")\n",
    "# -----------------------------------\n",
    "# Первая ветка\n",
    "X_1_1 = TreeNode(0, \"X\")#\n",
    "# -----------------------------------\n",
    "B_1 = TreeNode(0,\"B\")\n",
    "X_2_1 = TreeNode(0,\"X\")\n",
    "X_2_2 =  TreeNode(0,\"X\")\n",
    "C_1 = TreeNode(0,\"C\")\n",
    "C_2 = TreeNode(0,\"C\")\n",
    "\n",
    "X_3_1 = TreeNode(0,\"X\")\n",
    "X_3_1.add_child(TreeNode(82500,\"out\"))\n",
    "X_3_1.add_child(TreeNode(75000,\"out\"))\n",
    "C_1.add_child(X_3_1)\n",
    "\n",
    "X_3_2 = TreeNode(0,\"X\")\n",
    "X_3_2.add_child(TreeNode(82500,\"out\"))\n",
    "X_3_2.add_child(TreeNode(75000,\"out\"))\n",
    "C_2.add_child(X_3_2)\n",
    "\n",
    "X_2_1.add_child(C_1)\n",
    "X_2_1.add_child(C_2)\n",
    "\n",
    "C_3 = TreeNode(0,\"C\")\n",
    "C_4 = TreeNode(0,\"C\")\n",
    "\n",
    "X_3_3 = TreeNode(0,\"X\")\n",
    "X_3_3.add_child(TreeNode(82500,\"out\"))\n",
    "X_3_3.add_child(TreeNode(75000,\"out\"))\n",
    "C_3.add_child(X_3_3)\n",
    "\n",
    "X_3_4 = TreeNode(0,\"X\")\n",
    "X_3_4.add_child(TreeNode(82500,\"out\"))\n",
    "X_3_4.add_child(TreeNode(75000,\"out\"))\n",
    "C_4.add_child(X_3_4)\n",
    "\n",
    "X_2_2.add_child(C_3)\n",
    "X_2_2.add_child(C_4)\n",
    "\n",
    "\n",
    "B_1.add_child(X_2_1)\n",
    "B_1.add_child(X_2_2)\n",
    "\n",
    "X_1_1.add_child(B_1)\n",
    "\n",
    "\n",
    "# -----------------------------------\n",
    "# Вторая ветка\n",
    "X_1_2 = TreeNode(0, \"X\")#\n",
    "# -----------------------------------\n",
    "B_2 = TreeNode(0,\"B\")\n",
    "X_2_3 = TreeNode(0,\"X\")\n",
    "X_2_4 =  TreeNode(0,\"X\")\n",
    "C_5 = TreeNode(0,\"C\")\n",
    "C_6 = TreeNode(0,\"C\")\n",
    "\n",
    "X_3_5 = TreeNode(0,\"X\")\n",
    "X_3_5.add_child(TreeNode(112500,\"out\"))\n",
    "X_3_5.add_child(TreeNode(105000,\"out\"))\n",
    "C_5.add_child(X_3_5)\n",
    "\n",
    "X_3_6 = TreeNode(0,\"X\")\n",
    "X_3_6.add_child(TreeNode(112500,\"out\"))\n",
    "X_3_6.add_child(TreeNode(105000,\"out\"))\n",
    "C_6.add_child(X_3_6)\n",
    "\n",
    "X_2_3.add_child(C_5)\n",
    "X_2_3.add_child(C_6)\n",
    "\n",
    "C_7 = TreeNode(0,\"C\")\n",
    "C_8 = TreeNode(0,\"C\")\n",
    "\n",
    "X_3_7 = TreeNode(0,\"X\")\n",
    "X_3_7.add_child(TreeNode(112500,\"out\"))\n",
    "X_3_7.add_child(TreeNode(105000,\"out\"))\n",
    "C_7.add_child(X_3_7)\n",
    "\n",
    "X_3_8 = TreeNode(0,\"X\")\n",
    "X_3_8.add_child(TreeNode(112500,\"out\"))\n",
    "X_3_8.add_child(TreeNode(105000,\"out\"))\n",
    "C_8.add_child(X_3_8)\n",
    "\n",
    "X_2_4.add_child(C_7)\n",
    "X_2_4.add_child(C_8)\n",
    "\n",
    "\n",
    "B_2.add_child(X_2_3)\n",
    "B_2.add_child(X_2_4)\n",
    "\n",
    "X_1_2.add_child(B_2)\n",
    "\n",
    "# -----------------------------------\n",
    "root.add_child(X_1_1)\n",
    "root.add_child(X_1_2)\n",
    "root.print_tree()\n",
    "\n",
    "optimal_payment = root.reverse_induction()\n"
   ]
  },
  {
   "cell_type": "markdown",
   "metadata": {},
   "source": [
    "Решение игры:"
   ]
  },
  {
   "cell_type": "code",
   "execution_count": 112,
   "metadata": {},
   "outputs": [
    {
     "name": "stdout",
     "output_type": "stream",
     "text": [
      "optimized = 82500\n"
     ]
    }
   ],
   "source": [
    "print(\"optimized = \" + str(optimal_payment))"
   ]
  },
  {
   "cell_type": "markdown",
   "metadata": {},
   "source": [
    "### Глава 3. Мета-игры"
   ]
  },
  {
   "cell_type": "markdown",
   "metadata": {},
   "source": [
    "#### Шаг 1. Построение мета-игры."
   ]
  },
  {
   "cell_type": "markdown",
   "metadata": {},
   "source": [
    "Рассмотрим нашу экономическу модель, но у же с добавлением некоторых параметром и, соответственно, с ограничениями на них.\n",
    "\n",
    "Будем рассматривать все три игры по отдельности."
   ]
  },
  {
   "cell_type": "markdown",
   "metadata": {},
   "source": [
    "##### Начнем с игры **$XA$**"
   ]
  },
  {
   "cell_type": "markdown",
   "metadata": {},
   "source": [
    "$$\n",
    "X_{A} = \n",
    "\\left(\n",
    "\\begin{matrix}\n",
    "1.5x & x & 2x \\\\\n",
    "2x & x & x \\\\\n",
    "x & x & 0.5x \\\\\n",
    "\\end{matrix}\n",
    "\\right)\n",
    "$$"
   ]
  },
  {
   "cell_type": "markdown",
   "metadata": {},
   "source": [
    "Во - первых ограничим прибыль варежек за один месяц, т.е $$0 \\leq x \\leq 70000$$\n",
    "\n",
    "Тогда прибыль за весь период продаж обеих фирм будет варьироваться от нуля до максимальной прибыли, которая возможна, т.е $$0 \\leq \\sum x\\leq 210000(3x)$$\n",
    "\n",
    "Фирмы $X$ и $A$ понимают, что в последний месяц продавать товар не выгодно, но зачастую определенные внешние и внетренние факторы не оставляют им выбора. Например, не успевают произвести большое количество качественных варежек и тд. \n",
    "\n",
    "Поэтому для получения положительной динамики фирмы решаются внедрить в свой продукт более продвинутые и иновационные технологии, которые заинтересуют покупателя и будут пользоваться большим спросом. И цена на такую продукцию будет выше, чем на обычные варежки. \n",
    "\n",
    "Из - за особенностей рынка количество товара, которого могут произвести и продать фирмы, ограничено.\n",
    "\n",
    "Максимальное количество пар варежек $Q = 200$ у.е.\n",
    "\n",
    "Введем так же цену одной самой обычной пары варежек: $$ cost_u = 600 \\ у.е. $$\n",
    "\n",
    "Посчитаем, сколько пар сможет продать фирма $X$, если максимальная прибыль равна 140000 у.е\n",
    "\n",
    "$$\n",
    "Q_{xu} = 140000/600 = 233 \\ пар\n",
    "$$"
   ]
  },
  {
   "cell_type": "markdown",
   "metadata": {},
   "source": [
    "Фирма $X$ понимает, что если она начнет их продавать в последний месяц, то продать все обычные варежки не получится. В связи с этим она предпринемает решение брать не количеством, а качеством. Лучше продать более дорогие и качественные.\n",
    "\n",
    "Цена за одну более качетсвенную пару варежек будет составлять $$cost_e = 1200 \\ у.е$$\n",
    "\n",
    "Максимальное количество пар, которое может может продать фирма с учетом ограничения прибыли, будет равно \n",
    "\n",
    "$$\n",
    "Q_{xe} = 140000/1200 = 116 \\ пар\n",
    "$$\n",
    "\n"
   ]
  },
  {
   "cell_type": "markdown",
   "metadata": {},
   "source": [
    "В итоге формула для вычисления прибыли фирмы $X$ в последний месяц продаж будет выглядеть следующим образом:\n",
    "\n",
    "$$\n",
    "P_x = \\sum x + pQ(cost_e - cost_u), \\ где\n",
    "$$\n",
    "\n",
    "$\\sum x$ - прибыль за весь период времени.\n",
    "\n",
    "$Q$ - максимальное количество пар варежек, которое можно продавать.\n",
    "\n",
    "$cost_u$ - цена обычной пары.\n",
    "\n",
    "$cost_e$ - цена качественной пары.\n",
    "\n",
    "$p$ - количество процентов, на которое надо увеличить продажу качественных пар фирмы $X$."
   ]
  },
  {
   "cell_type": "markdown",
   "metadata": {},
   "source": [
    "Наша матрица игры примет следующий вид, учитывая, что\n",
    "\n",
    "$Q$ = 200 пар варежек;\n",
    "\n",
    "$cost_u$ = 600 у.е;\n",
    "\n",
    "$cost_e$ = 1200 у.е;\n",
    "\n",
    "$$\n",
    "X_{A} = \n",
    "\\left(\n",
    "\\begin{matrix}\n",
    "1.5x & x & 2x \\\\\n",
    "2x & x & x \\\\\n",
    " x + 120000p & x + 120000p & 0.5x + 120000p\\\\\n",
    "\\end{matrix}\n",
    "\\right)\n",
    "$$"
   ]
  },
  {
   "cell_type": "markdown",
   "metadata": {},
   "source": [
    "Фирма $A$ так же прекрасно понимает, что необходимо увеличить поставки более качественного товара в последний месяц\n",
    "\n",
    "Поэтому формула для вычисления прибыли фирмы $X$ в последний месяц продаж фирмы $A$ будет выглядеть следующим образом\n",
    "\n",
    "$$\n",
    "P_A = (3x - \\sum x) + qQ(cost_e - cost_u), \\ где\n",
    "$$\n",
    "\n",
    "$q$ - количество процентов, на которое надо увеличить продажу качественных варежек фирмы $A$.\n",
    "\n",
    "Тогда матрица игры будет следующей\n",
    "\n",
    "$$\n",
    "X_{A} = \n",
    "\\left(\n",
    "\\begin{matrix}\n",
    "1.5x & x & 2x - 120000p \\\\\n",
    "2x & x & x - 120000p \\\\\n",
    " x + 120000p & x + 120000p & 0.5x + 120000(p-q)\\\\\n",
    "\\end{matrix}\n",
    "\\right)\n",
    "$$\n",
    "\n",
    "Введем льготы малому бизнесу (мы же не изверги какие-то, а это всё-таки бабушки), добавляя к прибыли выплаты $r$, причём\n",
    "$$\n",
    "0\\% \\leq r \\leq 5 \\% \n",
    "$$\n",
    "\n",
    "После всех введенных ограничений и допущений, итоговая матрица имеет вид:\n",
    "\n",
    "$$\n",
    "X_{A} = \n",
    "\\left(\n",
    "\\begin{matrix}\n",
    "1.5x(1 + r) & x(1 + r) & (2x - 120000p)(1 + r) \\\\\n",
    "2x(1 + r) & x(1 + r) & (x - 120000p)(1 + r) \\\\\n",
    " (x + 120000p)(1 + r) & (x + 120000p)(1 + r) & (0.5x + 120000(p-q))(1 + r)\\\\\n",
    "\\end{matrix}\n",
    "\\right)\n",
    "$$"
   ]
  },
  {
   "cell_type": "markdown",
   "metadata": {},
   "source": [
    "#### Шаг 2. Составить вектор параметров."
   ]
  },
  {
   "cell_type": "markdown",
   "metadata": {},
   "source": [
    "Вектор параметров мета-игры M:\n",
    "$$\n",
    "M_{xa} = [x,p,q,r]\n",
    "$$"
   ]
  },
  {
   "cell_type": "markdown",
   "metadata": {},
   "source": [
    "#### Шаг 3. Невязка"
   ]
  },
  {
   "cell_type": "markdown",
   "metadata": {},
   "source": [
    "Допустим с текущим конкретным вектором $M_0$ у вас получается игра $G_0$ и стратегии $A,B$\n",
    "$$\n",
    "F(M_0) = \\sum a_i b_j G[i,j](M_0)\n",
    "$$\n",
    "\n",
    "$$\n",
    "\\sigma_1 = [ \\sigma, 0,0]\\\\\n",
    "\\sigma_2 = [0, \\sigma, 0]\\\\\n",
    "\\sigma_3 = [0,0, \\sigma ]\\\\\n",
    "\\\\\n",
    "\\sigma = 3\n",
    "$$\n",
    "\n",
    "Далее высчитываем невязку: \n",
    "$$\n",
    "\\Delta_1 = F(M_0 + \\sigma_1) - F(M_0)\n",
    "$$\n",
    "И вектор невязки:\n",
    "$$\n",
    "\\Delta = [\\Delta_1,\\Delta_2,\\Delta_3,\\Delta_4]\n",
    "$$\n",
    "\n"
   ]
  },
  {
   "cell_type": "markdown",
   "metadata": {},
   "source": [
    "##### Возьмем начальный вектор $M_0 = [60000,19,17,1]$\n",
    "\n",
    "Реализуем теперь программу поиска невязки игры:"
   ]
  },
  {
   "cell_type": "code",
   "execution_count": 16,
   "metadata": {},
   "outputs": [],
   "source": [
    "from scipy.optimize import linprog\n",
    "import numpy as np\n",
    "import math \n",
    "\n",
    "def Matrix_XA(x, p, q, r):\n",
    "    XA = [[1.5*x*(1 + r), x*(1 + r), (2*x - 120000*p)*(1 + r)],\n",
    "    [2*x*(1 + r), x*(1 + r), (x - 120000*p)*(1 + r)],\n",
    "    [(x + 120000*p)*(1 + r), (x + 120000*p)*(1 + r), (0.5*x + 120000*(p-q))*(1 + r)]]\n",
    "    \n",
    "    XA = np.array(XA)\n",
    "    return XA"
   ]
  },
  {
   "cell_type": "code",
   "execution_count": 30,
   "metadata": {},
   "outputs": [
    {
     "name": "stdout",
     "output_type": "stream",
     "text": [
      "Game XA:\n",
      "\n",
      "[[ 90900.  60600.  98172.]\n",
      " [121200.  60600.  37572.]\n",
      " [ 83628.  83628.  32724.]]\n"
     ]
    }
   ],
   "source": [
    "# Входные параметры\n",
    "cost_u = 600\n",
    "cost_e = 1200\n",
    "Q = 200\n",
    "x = 60000\n",
    "p = 19/100\n",
    "q = 17/100\n",
    "r = 1/100\n",
    "sigma = 3\n",
    "# Вектор начальных параметров\n",
    "M_0 = np.array([x,p,q,r])\n",
    "# Матрица игры\n",
    "XA = Matrix_XA(M_0[0], M_0[1], M_0[2], M_0[3])\n",
    "print(\"Game XA:\\n\")\n",
    "print(XA)\n",
    "\n",
    "XA_sigma_x = Matrix_XA(M_0[0] + sigma, M_0[1], M_0[2], M_0[3])\n",
    "XA_sigma_p = Matrix_XA(M_0[0], M_0[1] + sigma  / 100, M_0[2], M_0[3])\n",
    "XA_sigma_q = Matrix_XA(M_0[0],M_0[1], M_0[2] + sigma  / 100, M_0[3])\n",
    "XA_sigma_r = Matrix_XA(M_0[0], M_0[1], M_0[2], M_0[3] + sigma  / 100)\n"
   ]
  },
  {
   "cell_type": "markdown",
   "metadata": {},
   "source": [
    "Теперь при помощи linprog"
   ]
  },
  {
   "cell_type": "code",
   "execution_count": 31,
   "metadata": {},
   "outputs": [],
   "source": [
    "f =  [1, 1, 1]\n",
    "b = [-1, -1, -1]\n",
    "Game_1 = - np.transpose(XA)\n",
    "res_1 = linprog(f,Game_1,b)\n",
    "\n",
    "Game_2 = - np.transpose(XA_sigma_x)\n",
    "res_2 = linprog(f,Game_2,b)\n",
    "\n",
    "Game_3 = - np.transpose(XA_sigma_p)\n",
    "res_3 = linprog(f,Game_3,b)\n",
    "\n",
    "Game_4 = - np.transpose(XA_sigma_q)\n",
    "res_4 = linprog(f,Game_4,b)\n",
    "\n",
    "Game_5 = - np.transpose(XA_sigma_r)\n",
    "res_5 = linprog(f,Game_5,b)\n",
    "\n",
    "\n",
    "F_M0 = round(1/res_1.fun,2)\n",
    "F_M0_sigma_x = round(1 / res_2.fun, 2)\n",
    "F_M0_sigma_p = round(1 / res_3.fun, 2)\n",
    "F_M0_sigma_q = round(1 / res_4.fun, 2)\n",
    "F_M0_sigma_r = round(1 / res_5.fun, 2)\n"
   ]
  },
  {
   "cell_type": "markdown",
   "metadata": {},
   "source": [
    "Считаем $\\Delta = [\\Delta_1,\\Delta_2,\\Delta_3,\\Delta_4]$"
   ]
  },
  {
   "cell_type": "code",
   "execution_count": 32,
   "metadata": {},
   "outputs": [
    {
     "name": "stdout",
     "output_type": "stream",
     "text": [
      "Вектор невязки: [3.32, 886.59, -386.01, 2090.47]\n",
      "Нормализованный вектор невязки: [ 0.00144  0.38492 -0.16759  0.9076 ]\n"
     ]
    }
   ],
   "source": [
    "delta_1 = round(F_M0_sigma_x - F_M0 ,2)\n",
    "delta_2 = round(F_M0_sigma_p - F_M0 ,2)\n",
    "delta_3 = round(F_M0_sigma_q - F_M0, 2)\n",
    "delta_4 = round(F_M0_sigma_r - F_M0, 2)\n",
    "delta = [delta_1,delta_2,delta_3,delta_4]\n",
    "print(\"Вектор невязки: \" + str(delta))\n",
    "\n",
    "module = math.sqrt(pow(delta_1, 2) + pow(delta_2, 2) + pow(delta_3, 2) + pow(delta_4, 2))\n",
    "\n",
    "print(\"Нормализованный вектор невязки: \" + str(np.around(np.divide(delta, module),5)))"
   ]
  },
  {
   "cell_type": "markdown",
   "metadata": {},
   "source": [
    "Анализируя данный вектор невязки, можно сделать следующие выводы:\n",
    "* Первый компонент вектора невязки положительное число. Очевидно, что с увеличением прибыли за месяц увеличивается и общая прибыль.\n",
    "* Второй компонент вектора так же положительный, что тоже очевидно, увеличивая процент продажи качественных пар варежек - увеличивается суммарная прибыль, так как их стоимость превышает стоимость обычных пар варежек.\n",
    "* Третий компонет отрицательный. Это связано с увеличением производства качественного товара конкурента.\n",
    "* Четвёртый компонент положительный, это связано с тем, что с увеличением льгот(надбавки на прибыль) общая прибыль тоже растёт.\n",
    "\n",
    "Чтобы фирма $X$ получала как можно больше прибыли, необходимо увеличивать выпускаемость качественной продукции."
   ]
  },
  {
   "cell_type": "markdown",
   "metadata": {},
   "source": [
    "##### Аналогичным образом строится игра $XB$.\n"
   ]
  },
  {
   "cell_type": "markdown",
   "metadata": {},
   "source": [
    "$$\n",
    "X_{B} = \n",
    "\\left(\n",
    "\\begin{matrix}\n",
    "x & x & 2x\\\\\n",
    "x & 0.5x & x\\\\\n",
    "\\end{matrix}\n",
    "\\right)\n",
    "$$\n",
    "\n",
    "Пусть стоимость обычного шарфа $cost_u = 300$ у.е., а стоимость качественного $cost_e = 600$ у.е.\n",
    "\n",
    "Максимальное количество товара, которое могут продавать фирмы $Q = 115$ шарфов.\n",
    "\n",
    "Матрица игры с учетом введенных параметров:\n",
    "\n",
    "$$\n",
    "X_{B} = \n",
    "\\left(\n",
    "\\begin{matrix}\n",
    "x(1 - r) & x(1 + r) & (2x - 34500q)(1 + r)\\\\\n",
    "(x + 34500p)(1 + r) & (0.5x + 34500p)(1 + r) & (x + 34500(p - q))(1 + r)\\\\\n",
    "\\end{matrix}\n",
    "\\right), \\ где\n",
    "$$\n",
    "\n",
    "$x,p,q,r$ - те же параметры, что и в игре $XA$\n",
    "\n",
    "Возьмем начальный вектор $M_0 = [30000,10,6,1.5]$\n",
    "\n",
    "$\\sigma = 3$"
   ]
  },
  {
   "cell_type": "code",
   "execution_count": 35,
   "metadata": {},
   "outputs": [],
   "source": [
    "def Matrix_XB(x, p, q, r):\n",
    "\n",
    "    XB = [[x * (1 + r), x * (1 + r), (2 * x - 34500 * q) * (1 + r)],\n",
    "         [(x + 34500 * p) * (1 + r), (0.5 * x + 34500 * p) * (1 + r), (x + 34500 * (p - q)) * (1 + r),]]\n",
    "    \n",
    "    XB = np.array(XB)\n",
    "    return XB"
   ]
  },
  {
   "cell_type": "code",
   "execution_count": 48,
   "metadata": {},
   "outputs": [
    {
     "name": "stdout",
     "output_type": "stream",
     "text": [
      "Game XB:\n",
      "\n",
      "[[30450.   30450.   58798.95]\n",
      " [33951.75 18726.75 31850.7 ]]\n"
     ]
    }
   ],
   "source": [
    "# Входные параметры\n",
    "cost_u = 300\n",
    "cost_e = 600\n",
    "Q = 115\n",
    "x = 30000\n",
    "p = 10 / 100\n",
    "q = 6 / 100\n",
    "r = 1.5 / 100\n",
    "sigma = 3\n",
    "# Вектор начальных параметров\n",
    "M_0 = np.array([x,p,q,r])\n",
    "# Матрица игры\n",
    "XB = Matrix_XB(M_0[0], M_0[1], M_0[2], M_0[3])\n",
    "print(\"Game XB:\\n\")\n",
    "print(XB)\n",
    "\n",
    "XB_sigma_x = Matrix_XB(M_0[0] + sigma, M_0[1], M_0[2], M_0[3])\n",
    "XB_sigma_p = Matrix_XB(M_0[0], M_0[1] + sigma  / 100, M_0[2], M_0[3])\n",
    "XB_sigma_q = Matrix_XB(M_0[0],M_0[1], M_0[2] + sigma  / 100, M_0[3])\n",
    "XB_sigma_r = Matrix_XB(M_0[0], M_0[1], M_0[2], M_0[3] + sigma  / 100)"
   ]
  },
  {
   "cell_type": "code",
   "execution_count": 49,
   "metadata": {},
   "outputs": [],
   "source": [
    "f =  [1, 1]\n",
    "b = [-1, -1, -1]\n",
    "Game_1 = - np.transpose(XB)\n",
    "res_1 = linprog(f,Game_1,b)\n",
    "\n",
    "Game_2 = - np.transpose(XB_sigma_x)\n",
    "res_2 = linprog(f,Game_2,b)\n",
    "\n",
    "Game_3 = - np.transpose(XB_sigma_p)\n",
    "res_3 = linprog(f,Game_3,b)\n",
    "\n",
    "Game_4 = - np.transpose(XB_sigma_q)\n",
    "res_4 = linprog(f,Game_4,b)\n",
    "\n",
    "Game_5 = - np.transpose(XB_sigma_r)\n",
    "res_5 = linprog(f,Game_5,b)\n",
    "\n",
    "\n",
    "F_M0 = round(1/res_1.fun,2)\n",
    "F_M0_sigma_x = round(1 / res_2.fun, 2)\n",
    "F_M0_sigma_p = round(1 / res_3.fun, 2)\n",
    "F_M0_sigma_q = round(1 / res_4.fun, 2)\n",
    "F_M0_sigma_r = round(1 / res_5.fun, 2)"
   ]
  },
  {
   "cell_type": "code",
   "execution_count": 50,
   "metadata": {},
   "outputs": [
    {
     "name": "stdout",
     "output_type": "stream",
     "text": [
      "Вектор невязки: [3.04, 0.0, -5.45, 900.0]\n",
      "Нормализованный вектор невязки: [ 0.00338  0.      -0.00606  0.99998]\n"
     ]
    }
   ],
   "source": [
    "delta_1 = round(F_M0_sigma_x - F_M0 ,2)\n",
    "delta_2 = round(F_M0_sigma_p - F_M0 ,2)\n",
    "delta_3 = round(F_M0_sigma_q - F_M0, 2)\n",
    "delta_4 = round(F_M0_sigma_r - F_M0, 2)\n",
    "delta = [delta_1,delta_2,delta_3,delta_4]\n",
    "print(\"Вектор невязки: \" + str(delta))\n",
    "\n",
    "module = math.sqrt(pow(delta_1, 2) + pow(delta_2, 2) + pow(delta_3, 2) + pow(delta_4, 2))\n",
    "\n",
    "print(\"Нормализованный вектор невязки: \" + str(np.around(np.divide(delta, module),5)))"
   ]
  },
  {
   "cell_type": "markdown",
   "metadata": {},
   "source": [
    "Выводы аналогичные игре $XA$, но с отличием, что в этой игре нет смысла увеличивать производство качественного товара. Прибыль терпит потери, конкуренция - штука такая"
   ]
  },
  {
   "cell_type": "markdown",
   "metadata": {},
   "source": [
    "##### Аналогичным образом строится игра $XC$.\n"
   ]
  },
  {
   "cell_type": "markdown",
   "metadata": {},
   "source": [
    "$$\n",
    "X_{C} = \n",
    "\\left(\n",
    "\\begin{matrix}\n",
    "2.5x & x & 2x\\\\\n",
    "3x & 2x & x\\\\\n",
    "2x & 2x & 1.5x\\\\\n",
    "x & x & x\\\\\n",
    "\\end{matrix}\n",
    "\\right)\n",
    "$$\n",
    "\n",
    "Пусть стоимость обычного комплекта аксессуаров $cost_u = 500$ у.е., а стоимость качественного $cost_e = 800$ у.е.\n",
    "\n",
    "Максимальное количество товара, которое могут продавать фирмы $Q = 123$ комплекта.\n",
    "\n",
    "Матрица игры с учетом введенных параметров:\n",
    "\n",
    "$$\n",
    "X_{C} = \n",
    "\\left(\n",
    "\\begin{matrix}\n",
    "2.5x(1 + r) & x(1 + r) & (2x-36900q)(1 + r) \\\\\n",
    "3x(1 + r) & 2x(1 + r) & (x - 36900q)(1 + r)  \\\\\n",
    "2x(1 + r) & 2x(1 + r) & (1.5x - 36900q)(1 + r)  \\\\\n",
    "(x + 36900p)(1 + r) & (x + 36900p)(1 + r) & (x + 36900(p - q))(1 + r) & \\\\\n",
    "\\end{matrix}\n",
    "\\right)\n",
    "$$\n",
    "\n",
    "$x,p,q,r$ - те же параметры, что и в игре $XA$\n",
    "\n",
    "Возьмем начальный вектор $M_0 = [15000,59,61,2]$\n",
    "\n",
    "$\\sigma = 0.5$"
   ]
  },
  {
   "cell_type": "code",
   "execution_count": 51,
   "metadata": {},
   "outputs": [],
   "source": [
    "def Matrix_XC(x, p, q, r):\n",
    "\n",
    "    XC = [[2.5 * x * (1 + r), x * (1 + r), (2 * x - 36900 * q) * (1 + r)],\n",
    "         [3 * x  * (1 + r), 2 * x * (1 + r), (x - 36900 * q) * (1 + r)],\n",
    "         [2 * x  * (1 + r), 2 * x * (1 + r), (1.5 * x - 36900 * q) * (1 + r)],\n",
    "         [(x + 36900 * p)  * (1 + r), (x + 36900 * p)  * (1 + r), (x + 36900 * (p - q))  * (1 + r)]]\n",
    "    \n",
    "    XC = np.array(XC)\n",
    "    return XC"
   ]
  },
  {
   "cell_type": "code",
   "execution_count": 52,
   "metadata": {},
   "outputs": [
    {
     "name": "stdout",
     "output_type": "stream",
     "text": [
      "Game XC:\n",
      "\n",
      "[[ 3.825000e+04  1.530000e+04  7.640820e+03]\n",
      " [ 4.590000e+04  3.060000e+04 -7.659180e+03]\n",
      " [ 3.060000e+04  3.060000e+04 -9.180000e+00]\n",
      " [ 3.750642e+04  3.750642e+04  1.454724e+04]]\n"
     ]
    }
   ],
   "source": [
    "# Входные параметры\n",
    "cost_u = 500\n",
    "cost_e = 800\n",
    "Q = 123\n",
    "x = 15000\n",
    "p = 59 / 100\n",
    "q = 61 / 100\n",
    "r = 2 / 100\n",
    "sigma = 0.5\n",
    "# Вектор начальных параметров\n",
    "M_0 = np.array([x,p,q,r])\n",
    "# Матрица игры\n",
    "XC = Matrix_XC(M_0[0], M_0[1], M_0[2], M_0[3])\n",
    "print(\"Game XC:\\n\")\n",
    "print(XC)\n",
    "\n",
    "XC_sigma_x = Matrix_XC(M_0[0] + sigma, M_0[1], M_0[2], M_0[3])\n",
    "XC_sigma_p = Matrix_XC(M_0[0], M_0[1] + sigma  / 100, M_0[2], M_0[3])\n",
    "XC_sigma_q = Matrix_XC(M_0[0],M_0[1], M_0[2] + sigma  / 100, M_0[3])\n",
    "XC_sigma_r = Matrix_XC(M_0[0], M_0[1], M_0[2], M_0[3] + sigma  / 100)"
   ]
  },
  {
   "cell_type": "code",
   "execution_count": 53,
   "metadata": {},
   "outputs": [],
   "source": [
    "f =  [1, 1, 1, 1]\n",
    "b = [-1, -1, -1]\n",
    "Game_1 = - np.transpose(XC)\n",
    "res_1 = linprog(f,Game_1,b)\n",
    "\n",
    "Game_2 = - np.transpose(XC_sigma_x)\n",
    "res_2 = linprog(f,Game_2,b)\n",
    "\n",
    "Game_3 = - np.transpose(XC_sigma_p)\n",
    "res_3 = linprog(f,Game_3,b)\n",
    "\n",
    "Game_4 = - np.transpose(XC_sigma_q)\n",
    "res_4 = linprog(f,Game_4,b)\n",
    "\n",
    "Game_5 = - np.transpose(XC_sigma_r)\n",
    "res_5 = linprog(f,Game_5,b)\n",
    "\n",
    "\n",
    "F_M0 = round(1/res_1.fun,2)\n",
    "F_M0_sigma_x = round(1 / res_2.fun, 2)\n",
    "F_M0_sigma_p = round(1 / res_3.fun, 2)\n",
    "F_M0_sigma_q = round(1 / res_4.fun, 2)\n",
    "F_M0_sigma_r = round(1 / res_5.fun, 2)"
   ]
  },
  {
   "cell_type": "code",
   "execution_count": 54,
   "metadata": {},
   "outputs": [
    {
     "name": "stdout",
     "output_type": "stream",
     "text": [
      "Вектор невязки: [0.51, 188.19, -188.19, 71.31]\n",
      "Нормализованный вектор невязки: [ 0.00185  0.68301 -0.68301  0.25881]\n"
     ]
    }
   ],
   "source": [
    "delta_1 = round(F_M0_sigma_x - F_M0 ,2)\n",
    "delta_2 = round(F_M0_sigma_p - F_M0 ,2)\n",
    "delta_3 = round(F_M0_sigma_q - F_M0, 2)\n",
    "delta_4 = round(F_M0_sigma_r - F_M0, 2)\n",
    "delta = [delta_1,delta_2,delta_3,delta_4]\n",
    "print(\"Вектор невязки: \" + str(delta))\n",
    "\n",
    "module = math.sqrt(pow(delta_1, 2) + pow(delta_2, 2) + pow(delta_3, 2) + pow(delta_4, 2))\n",
    "\n",
    "print(\"Нормализованный вектор невязки: \" + str(np.around(np.divide(delta, module),5)))"
   ]
  },
  {
   "cell_type": "markdown",
   "metadata": {},
   "source": [
    "Выводы аналогичные игре $XA$."
   ]
  },
  {
   "cell_type": "markdown",
   "metadata": {},
   "source": [
    "### Вывод"
   ]
  },
  {
   "cell_type": "markdown",
   "metadata": {},
   "source": [
    "В заключение следует особо подчеркнуть, что теория игр является очень сложной областью знания. Даже обоснованность существования общественных организаций и социальных институтов можно исследовать посредством теории игр. При обращении с ней надо соблюдать известную осторожность и четко знать границы применения. Слишком простые толкования, принимаемые фирмой самостоятельно или с помощью консультантов, таят в себе скрытую опасность. Анализ и консультации на основе теории игр из-за их сложности рекомендуются лишь для особо важных проблемных областей. Опыт фирм показывает, что использование соответствующего инструментария предпочтительно при принятии однократных, принципиально важных плановых стратегических решений, в том числе при подготовке крупных кооперационных договоров. Однако применение теории игр облегчает нам понимание сущности происходящего, а многогранность данного раздела науки позволяет нам успешно использовать методы и свойства этой теории в различных областях нашей деятельности. Таким образом, теория игр стала одним из ведущих математических методов экономики и других областей науки."
   ]
  }
 ],
 "metadata": {
  "interpreter": {
   "hash": "f5e6e6e2e7d141d224d9b68ebbd7ec2ad8b6432f342cede9f0f267c19a778105"
  },
  "kernelspec": {
   "display_name": "Python 3.10.2 64-bit",
   "language": "python",
   "name": "python3"
  },
  "language_info": {
   "codemirror_mode": {
    "name": "ipython",
    "version": 3
   },
   "file_extension": ".py",
   "mimetype": "text/x-python",
   "name": "python",
   "nbconvert_exporter": "python",
   "pygments_lexer": "ipython3",
   "version": "3.10.2"
  },
  "orig_nbformat": 4
 },
 "nbformat": 4,
 "nbformat_minor": 2
}
